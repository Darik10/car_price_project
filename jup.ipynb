{
 "cells": [
  {
   "cell_type": "markdown",
   "id": "3066ad9e",
   "metadata": {},
   "source": [
    "#  <center>**Car Price Project.**</center>"
   ]
  },
  {
   "cell_type": "markdown",
   "id": "e46a6421",
   "metadata": {},
   "source": [
    "## **Project Overview:**\n",
    "First of all this is inteded to practice my data science skills. So inorder to put my knowledge in action, and share my work publiclly, I have decided to visit [Kaggle](https://www.kaggle.com/). I am not a Kagglist, but for me [Kaggle](https://www.kaggle.com/) is a place where I go to; when I need to pull data sets to pratice with. Then I have found a data sets named  [**Car Price Prediction**](https://www.kaggle.com/datasets/hellbuoy/car-price-prediction), and I decided to pic the whole project and try to solve the problem out there. \n",
    "\n",
    "To solve this problem I am going to follow the followig steps:-\n",
    " - 1st undrestand the problem:\n",
    "   - What is asked, and what is the bigger goal behind it (the business goal).\n",
    "   \n",
    " - 2nd Write down a project proposal:\n",
    "   - plan the work.\n",
    "   - break down the work into milestones and smaller tasks.\n",
    "   - estimate the time/scope for each milestone.\n",
    "   - document the project proposal.\n",
    "   \n",
    " - 3rd But the plan in action:\n",
    "   - follow the plan.\n",
    "   - make a sub-plan for each task.\n",
    "   - make sure that each task is done on time.\n",
    "   - plan for the next move.\n",
    "   - share your work."
   ]
  },
  {
   "cell_type": "markdown",
   "id": "c0d7dc02",
   "metadata": {},
   "source": [
    "## Step1:  Undrestanding the Problem\n",
    "###    Problem Descrription\n",
    "As mentioned in this [Car Price Prediction Project](https://www.kaggle.com/datasets/hellbuoy/car-price-prediction) posted on [Kaggle](kaggle.com), a Chinees automobile company named Teclov_Chinese was aspiring to enter the US market. They were planing to setup a manufactering unit in US, and to produce cars localy; to give competition to their US and European counterparts.\n",
    "\n",
    "So they need to undrestand the factors effecting the price of cars in the US Market. \n",
    "\n",
    "####         Breifly\n",
    "- the company wants to know:\n",
    "  - Which variables are significant in  predicting the price of a car.\n",
    "  - How well those variables describe the car price.\n",
    "\n",
    "\n",
    "#### Business Goal\n",
    "The biger idea behind this project is to model the car price variable with the other correlated/associated independent variables. So the management will undrestand how different features of cars effect its price. They will use the model for deciding what designs of cars to produce inorder to meet certain price levels.\n",
    "\n",
    "**Note:** This project was posted 4 years ago on [Kaggle](kaggle.com), but for now it is enough for me to play with.\n"
   ]
  },
  {
   "cell_type": "markdown",
   "id": "0aeb3558",
   "metadata": {},
   "source": [
    "## Step 2: Project Proposal\n",
    "\n",
    "Before jumping to writing a project prosal, I think it is useful to discus about things like:\n",
    " - What is totally needed?\n",
    " - What kind of data will be used? What sources of data are availabe?\n",
    " - What are the required variables? \n",
    " - What types of analysis and models might be useful? and many more questions a like.\n",
    " \n",
    "For now, we are already familiar with the business problem; and there is a pre-collected survey data which is planed to use for this project. When it comes to the required variables, we would assign the required variables during the proccess; cause all the effecting variables of the car price should be included. And since we had a prediction task, we would use a predictive model; a multiple linear regression is recomended for this task. We will also try to apply other complex predictive models, inorder to campare the results and select the most suitable one.\n",
    "\n",
    "### <center>Car Price Project Proposal</center>\n",
    "\n",
    "|Milestone|Tasks|Outcome/Deliverables|Estimated Time|\n",
    "|---------|----|---------------------|--------------|\n",
    "|  |Project Workflow is outlined|||\n",
    "|  Milestone One |Data is gathered| updates are shared |  Two days |  |\n",
    "|| Software/hardware needs are identified| |  | \n",
    "|----------------|----------------------|-------------------|------------|\n",
    "|  | Data is formated, cleaned and prepared|  |   |\n",
    "|Milestone Two| EDA is applied| Summery report is produced| One week|\n",
    "|  | Descriptive statistics is applied| updates are shared| |\n",
    "|   | Features are selected| |  |\n",
    "|----------------|----------------------|-------------------|------------|\n",
    "|  |Hypothesis testing is applied|  |  |\n",
    "|  |Modeling and machine learning decissions are finalized| | |\n",
    "|Milestone Three| Model is constructed| updates are shared|Two weeks|\n",
    "|  | Model is evaluated, tested and retested for accurecy| | |\n",
    "|----------------|----------------------|-------------------|------------|\n",
    "|  |Results are finalized| executive summary is produced |  | |\n",
    "|Milestone Four| Findigs are shared| Visualizations|One week|\n",
    "|   |Feedbac is incorporated| Results|  |"
   ]
  },
  {
   "cell_type": "code",
   "execution_count": null,
   "id": "981f9fca",
   "metadata": {},
   "outputs": [],
   "source": []
  }
 ],
 "metadata": {
  "kernelspec": {
   "display_name": "Python 3 (ipykernel)",
   "language": "python",
   "name": "python3"
  },
  "language_info": {
   "codemirror_mode": {
    "name": "ipython",
    "version": 3
   },
   "file_extension": ".py",
   "mimetype": "text/x-python",
   "name": "python",
   "nbconvert_exporter": "python",
   "pygments_lexer": "ipython3",
   "version": "3.9.7"
  }
 },
 "nbformat": 4,
 "nbformat_minor": 5
}
